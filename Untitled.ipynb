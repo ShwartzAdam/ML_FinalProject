{
 "cells": [
  {
   "cell_type": "code",
   "execution_count": 1,
   "metadata": {
    "collapsed": false
   },
   "outputs": [
    {
     "ename": "SyntaxError",
     "evalue": "invalid syntax (<ipython-input-1-aea164b2c023>, line 8)",
     "output_type": "error",
     "traceback": [
      "\u001b[1;36m  File \u001b[1;32m\"<ipython-input-1-aea164b2c023>\"\u001b[1;36m, line \u001b[1;32m8\u001b[0m\n\u001b[1;33m    corpus = Corpus(VectorSource(tweets$Tweet))\u001b[0m\n\u001b[1;37m                                       ^\u001b[0m\n\u001b[1;31mSyntaxError\u001b[0m\u001b[1;31m:\u001b[0m invalid syntax\n"
     ]
    }
   ],
   "source": [
    "import rpy2.robjects as ro\n",
    "preproc = [x[0] for x in ro.r('''\n",
    "tweets = read.csv(\"tweets.csv\", stringsAsFactors=FALSE)\n",
    "library(tm)\n",
    "library(SnowballC)\n",
    "corpus = Corpus(VectorSource(tweets$Tweet))\n",
    "corpus = tm_map(corpus, tolower)\n",
    "corpus = tm_map(corpus, removePunctuation)\n",
    "corpus = tm_map(corpus, removeWords, c(\"apple\", stopwords(\"english\")))\n",
    "corpus = tm_map(corpus, stemDocument)''')]\n",
    "\n",
    "from sklearn.feature_extraction.text import CountVectorizer\n",
    "def mytokenizer(x):\n",
    "    return [y for y in x.split() if len(y) > 2]\n",
    "\n",
    "cv = CountVectorizer(tokenizer=mytokenizer)\n",
    "X = cv.fit_transform(preproc)\n",
    "X\n",
    "\n",
    "cv2 = CountVectorizer(tokenizer=mytokenizer, min_df=0.005)\n",
    "X2 = cv2.fit_transform(preproc)\n",
    "X2\n"
   ]
  },
  {
   "cell_type": "code",
   "execution_count": 2,
   "metadata": {
    "collapsed": false
   },
   "outputs": [
    {
     "ename": "ImportError",
     "evalue": "No module named rpy2.robjects",
     "output_type": "error",
     "traceback": [
      "\u001b[1;31m---------------------------------------------------------------------------\u001b[0m",
      "\u001b[1;31mImportError\u001b[0m                               Traceback (most recent call last)",
      "\u001b[1;32m<ipython-input-2-8179506c4898>\u001b[0m in \u001b[0;36m<module>\u001b[1;34m()\u001b[0m\n\u001b[1;32m----> 1\u001b[1;33m \u001b[1;32mimport\u001b[0m \u001b[0mrpy2\u001b[0m\u001b[1;33m.\u001b[0m\u001b[0mrobjects\u001b[0m \u001b[1;32mas\u001b[0m \u001b[0mro\u001b[0m\u001b[1;33m\u001b[0m\u001b[0m\n\u001b[0m\u001b[0;32m      2\u001b[0m preproc = [x[0] for x in ro.r('''\n\u001b[0;32m      3\u001b[0m \u001b[0mtweets\u001b[0m \u001b[1;33m=\u001b[0m \u001b[0mread\u001b[0m\u001b[1;33m.\u001b[0m\u001b[0mcsv\u001b[0m\u001b[1;33m(\u001b[0m\u001b[1;34m\"./data.csv\"\u001b[0m\u001b[1;33m,\u001b[0m \u001b[0mstringsAsFactors\u001b[0m\u001b[1;33m=\u001b[0m\u001b[0mFALSE\u001b[0m\u001b[1;33m)\u001b[0m\u001b[1;33m\u001b[0m\u001b[0m\n\u001b[0;32m      4\u001b[0m \u001b[0mlibrary\u001b[0m\u001b[1;33m(\u001b[0m\u001b[0mtm\u001b[0m\u001b[1;33m)\u001b[0m\u001b[1;33m\u001b[0m\u001b[0m\n\u001b[0;32m      5\u001b[0m \u001b[0mlibrary\u001b[0m\u001b[1;33m(\u001b[0m\u001b[0mSnowballC\u001b[0m\u001b[1;33m)\u001b[0m\u001b[1;33m\u001b[0m\u001b[0m\n",
      "\u001b[1;31mImportError\u001b[0m: No module named rpy2.robjects"
     ]
    }
   ],
   "source": [
    "import rpy2.robjects as ro\n",
    "preproc = [x[0] for x in ro.r('''\n",
    "tweets = read.csv(\"./data.csv\", stringsAsFactors=FALSE)\n",
    "library(tm)\n",
    "library(SnowballC)\n",
    "corpus = Corpus(VectorSource(tweets$Tweet))\n",
    "corpus = tm_map(corpus, tolower)\n",
    "corpus = tm_map(corpus, removePunctuation)\n",
    "corpus = tm_map(corpus, removeWords, c(\"apple\", stopwords(\"english\")))\n",
    "corpus = tm_map(corpus, stemDocument)''')]\n",
    "\n",
    "from sklearn.feature_extraction.text import CountVectorizer\n",
    "def mytokenizer(x):\n",
    "    return [y for y in x.split() if len(y) > 2]\n",
    "\n",
    "cv = CountVectorizer(tokenizer=mytokenizer)\n",
    "X = cv.fit_transform(preproc)\n",
    "X\n",
    "\n",
    "cv2 = CountVectorizer(tokenizer=mytokenizer, min_df=0.005)\n",
    "X2 = cv2.fit_transform(preproc)\n",
    "X2\n",
    "\n"
   ]
  },
  {
   "cell_type": "code",
   "execution_count": null,
   "metadata": {
    "collapsed": true
   },
   "outputs": [],
   "source": []
  }
 ],
 "metadata": {
  "kernelspec": {
   "display_name": "Python 2",
   "language": "python",
   "name": "python2"
  },
  "language_info": {
   "codemirror_mode": {
    "name": "ipython",
    "version": 2
   },
   "file_extension": ".py",
   "mimetype": "text/x-python",
   "name": "python",
   "nbconvert_exporter": "python",
   "pygments_lexer": "ipython2",
   "version": "2.7.6"
  }
 },
 "nbformat": 4,
 "nbformat_minor": 0
}
